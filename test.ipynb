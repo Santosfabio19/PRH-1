{
 "cells": [
  {
   "cell_type": "code",
   "execution_count": 5,
   "metadata": {},
   "outputs": [],
   "source": [
    "import casadi \n",
    "import pandas as pd\n",
    "import numpy as np"
   ]
  },
  {
   "cell_type": "code",
   "execution_count": null,
   "metadata": {},
   "outputs": [],
   "source": []
  },
  {
   "cell_type": "code",
   "execution_count": 6,
   "metadata": {},
   "outputs": [],
   "source": [
    "def Sistemas(x0, P1_value, lut):\n",
    "    x = MX.sym('x', 2)  \n",
    "    p = MX.sym('p', 2)\n",
    "\n",
    "    # Interpolação\n",
    "    phi_value = lut([p[0], p[1]])  # Interpolação usando N_rot e Mass\n",
    "    \n",
    "    # Constantes\n",
    "    A1 = 2.6e-3   # m²\n",
    "    Lc = 2.0      # m\n",
    "    alpha = 0.5   \n",
    "    P_out = 5.0   \n",
    "    C1 = 479.029  \n",
    "    nu_P = 2.0    # m³\n",
    "    K_nu = 0.38 * 1000  # kg / (kBar^0.5 s)\n",
    "\n",
    "    # Definir `z`\n",
    "    z = if_else(x[1] < P_out, 0, sqrt(x[1] - P_out))\n",
    "    \n",
    "    # Definir RHS da EDO\n",
    "    rhs = vertcat(\n",
    "        (A1 / Lc) * (vertcat(p[1], x[0]) * p[0] - (x[1])),\n",
    "        (C1**2) * (x[0] - alpha * K_nu * z * phi_value)\n",
    "    ) / nu_P\n",
    "\n",
    "    # Criar o integrador\n",
    "    ode = {'x': x, 'ode': rhs, 'p': p}\n",
    "    F = integrator('F', 'cvodes', ode, {'tf': 90})\n",
    "\n",
    "    # Avaliar\n",
    "    t_eval = np.linspace(0, 90, 120)\n",
    "    sol = np.zeros((len(t_eval), 2))\n",
    "    zeronum = 1e-9\n",
    "\n",
    "    for i in range(len(t_eval)):\n",
    "        res = F(x0=x0, p=P1_value)\n",
    "        x_next = res['xf'].full().flatten()\n",
    "        sol[i] = x_next\n",
    "\n",
    "        # Verificar estado estacionário\n",
    "        if np.all(np.abs(x_next - x0) < zeronum):\n",
    "            sol = sol[:i+1]\n",
    "            t_eval = t_eval[:i+1]\n",
    "            break\n",
    "        x0 = x_next\n",
    "\n",
    "    return sol, P1_value, t_eval\n"
   ]
  },
  {
   "cell_type": "code",
   "execution_count": 7,
   "metadata": {},
   "outputs": [],
   "source": [
    "def Loop(loops, stati, lut):\n",
    "    estados = []\n",
    "    p1_total = []\n",
    "    t_eval_total = []\n",
    "\n",
    "    for i in range(loops):\n",
    "        if i == 0:\n",
    "            x0 = stati  # Estado inicial\n",
    "        else:\n",
    "            x0 = estados[-1][-1]\n",
    "\n",
    "        P1_v = p1_gen.P1()  # Geração aleatória de P1\n",
    "        sol, P1_aleatorio, t_eval = Sistemas(x0, P1_v, lut)\n",
    "        estados.append(sol)\n",
    "        p1_total.append(P1_aleatorio)\n",
    "        \n",
    "        # Concatenar tempo\n",
    "        if i == 0:\n",
    "            t_total = t_eval\n",
    "        else:\n",
    "            t_total = np.concatenate([t_total, t_total[-1] + t_eval])\n",
    "\n",
    "    return estados, p1_total, t_total\n"
   ]
  },
  {
   "cell_type": "code",
   "execution_count": null,
   "metadata": {},
   "outputs": [],
   "source": []
  }
 ],
 "metadata": {
  "kernelspec": {
   "display_name": "Python 3",
   "language": "python",
   "name": "python3"
  },
  "language_info": {
   "codemirror_mode": {
    "name": "ipython",
    "version": 3
   },
   "file_extension": ".py",
   "mimetype": "text/x-python",
   "name": "python",
   "nbconvert_exporter": "python",
   "pygments_lexer": "ipython3",
   "version": "3.11.2"
  }
 },
 "nbformat": 4,
 "nbformat_minor": 2
}
